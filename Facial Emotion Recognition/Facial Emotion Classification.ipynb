{
 "cells": [
  {
   "cell_type": "markdown",
   "metadata": {},
   "source": [
    "# Using Facial Emotions Classification to Boost Retail Sales\n",
    "\n",
    "This project explores the potential of using facial emotion recognition to boost sales within retail stores. Outside of online and print advertisements, retail stores have displays that draws in potential customers. This project attempts to draw in potential customers into retail stores by determining their facial emotion and using that to quickly decide on whether to change the displays available. While an facial emotion displaying one of disgust and fear may stop someone from entering the retail store, an emotion displaying happiness, or surprise may draw them in."
   ]
  },
  {
   "cell_type": "markdown",
   "metadata": {},
   "source": [
    "## Table of Contents\n",
    "\n",
    "[Initializations](#Initializations)\n",
    "\n",
    "[Dataset](#Dataset)\n",
    "\n",
    "[Modeling](#Modeling)\n",
    "\n",
    "[Identifying Issues with Emotions](#Identifying-Issues-with-Emotions)"
   ]
  },
  {
   "cell_type": "markdown",
   "metadata": {},
   "source": [
    "## Initializations\n",
    "\n",
    "In this section are a couple of variables that will be initialized and used throughout the project"
   ]
  },
  {
   "cell_type": "code",
   "execution_count": 1,
   "metadata": {},
   "outputs": [],
   "source": [
    "# model related initializations\n",
    "load_model = False\n",
    "model_path = ''\n",
    "model_name = 'facial_expression_normalization_model.h5'\n",
    "model_name2 = 'facial_expression_normalization_model2.h5'\n",
    "model_name3 = 'three_facial_emotion_model.h5'\n",
    "model_name4 = 'anger_disgust_happy_neutral_model.h5'\n",
    "batch_size = 64\n",
    "epochs = 20\n",
    "\n",
    "# dataset related initialization\n",
    "# out of the 7 emotions available in the dataset, only 5 will be utilized: angry, disgust, happy, surprise, neutral\n",
    "num_classes = 5\n",
    "emotion_values = ['angry', 'disgust', 'happy', 'surprise', 'neutral']\n",
    "width, height, color = 48, 48, 1\n",
    "input_shape = (width, height, color)"
   ]
  },
  {
   "cell_type": "markdown",
   "metadata": {},
   "source": [
    "## Dataset\n",
    "\n",
    "The dataset used to train facial emotions comes from a previous [2013 kaggle competition](https://www.kaggle.com/c/challenges-in-representation-learning-facial-expression-recognition-challenge). This dataset contains over 28,000 training data and over 7,000 test data used to validate and test the model. Each image contained within the dataset is a 48x48 pixel grayscale image of a face. The images are relatively centered and occupies about the same amount of space in each image."
   ]
  },
  {
   "cell_type": "code",
   "execution_count": 2,
   "metadata": {},
   "outputs": [],
   "source": [
    "with open(\"fer2013.csv\") as f:\n",
    "    content = f.readlines()"
   ]
  },
  {
   "cell_type": "code",
   "execution_count": 3,
   "metadata": {},
   "outputs": [
    {
     "name": "stdout",
     "output_type": "stream",
     "text": [
      "emotion,pixels,Usage\n",
      "\n",
      "0,70 80 82 72 58 58 60 63 54 58 60 48 89 115 121 119 115 110 98 91 84 84 90 99 110 126 143 153 158 171 169 172 169 165 129 110 113 107 95 79 66 62 56 57 61 52 43 41 65 61 58 57 56 69 75 70 65 56 54 105 146 154 151 151 155 155 150 147 147 148 152 158 164 172 177 182 186 189 188 190 188 180 167 116 95 103 97 77 72 62 55 58 54 56 52 44 50 43 54 64 63 71 68 64 52 66 119 156 161 164 163 164 167 168 170 174 175 176 178 179 183 187 190 195 197 198 197 198 195 191 190 145 86 100 90 65 57 60 54 51 41 49 56 47 38 44 63 55 46 52 54 55 83 138 157 158 165 168 172 171 173 176 179 179 180 182 185 187 189 189 192 197 200 199 196 198 200 198 197 177 91 87 96 58 58 59 51 42 37 41 47 45 37 35 36 30 41 47 59 94 141 159 161 161 164 170 171 172 176 178 179 182 183 183 187 189 192 192 194 195 200 200 199 199 200 201 197 193 111 71 108 69 55 61 51 42 43 56 54 44 24 29 31 45 61 72 100 136 150 159 163 162 163 170 172 171 174 177 177 180 187 186 187 189 192 192 194 195 196 197 199 200 201 200 197 201 137 58 98 92 57 62 53 47 41 40 51 43 24 35 52 63 75 104 129 143 149 158 162 164 166 171 173 172 174 178 178 179 187 188 188 191 193 194 195 198 199 199 197 198 197 197 197 201 164 52 78 87 69 58 56 50 54 39 44 42 26 31 49 65 91 119 134 145 147 152 159 163 167 171 170 169 174 178 178 179 187 187 185 187 190 188 187 191 197 201 199 199 200 197 196 197 182 58 62 77 61 60 55 49 59 52 54 44 22 30 47 68 102 123 136 144 148 150 153 157 167 172 173 170 171 177 179 178 186 190 186 189 196 193 191 194 190 190 192 197 201 203 199 194 189 69 48 74 56 60 57 50 59 59 51 41 20 34 47 79 111 132 139 143 145 147 150 151 160 169 172 171 167 171 177 177 174 180 182 181 192 196 189 192 198 195 194 196 198 201 202 195 189 70 39 69 61 61 61 53 59 59 45 40 26 40 61 93 124 135 138 142 144 146 151 152 158 165 168 168 165 161 164 173 172 167 172 167 180 198 198 193 199 195 194 198 200 198 197 195 190 65 35 68 59 59 62 57 60 59 50 44 32 54 90 115 132 137 138 140 144 146 146 156 165 168 174 176 176 175 168 168 169 171 175 171 172 192 194 184 198 205 201 194 195 193 195 192 186 57 38 72 65 57 62 58 57 60 54 49 47 79 116 130 138 141 141 139 141 143 145 157 164 164 166 173 174 176 179 179 176 181 189 188 173 180 175 160 182 189 198 192 189 190 190 188 172 46 44 64 66 59 62 57 56 62 53 50 66 103 133 137 141 143 141 136 132 131 136 127 118 111 107 108 123 131 143 154 158 166 177 181 175 170 159 148 171 161 176 185 192 194 188 190 162 53 49 58 63 61 61 55 56 61 51 50 81 116 139 142 142 146 144 136 128 119 112 97 85 90 91 88 92 90 80 81 84 106 122 132 144 145 144 147 163 147 163 173 181 190 187 191 167 61 48 53 61 61 58 54 56 61 51 53 89 123 140 144 145 146 147 136 122 107 99 95 92 90 87 83 76 67 52 46 52 63 69 83 96 119 132 148 159 136 137 143 138 143 152 156 156 70 48 50 59 61 57 54 54 61 52 56 93 124 135 140 144 148 150 140 125 114 101 80 54 56 54 41 41 33 40 39 35 49 60 63 74 107 129 147 147 116 111 100 77 76 86 108 111 73 49 50 60 62 60 57 55 63 59 56 89 121 134 139 146 151 152 150 141 127 111 96 77 85 70 32 31 37 91 65 50 48 59 73 83 112 136 155 130 60 46 38 40 43 81 116 91 72 52 48 58 62 62 59 53 61 59 52 85 114 134 140 147 154 159 158 153 145 143 150 126 121 125 68 45 89 137 95 70 78 75 95 109 131 153 171 94 23 16 32 82 82 65 113 77 71 54 48 56 62 62 60 53 60 56 52 75 108 133 141 149 158 166 169 167 163 156 155 146 112 119 134 127 142 140 121 117 129 114 120 129 146 174 191 98 46 33 33 109 147 98 109 67 73 55 50 56 64 64 61 58 61 53 54 64 106 129 140 148 159 169 175 176 174 165 159 156 145 120 115 124 127 131 133 141 147 142 141 147 161 182 202 154 114 96 100 158 158 153 123 61 76 57 48 56 64 64 63 62 61 54 55 44 97 131 137 147 158 168 177 181 183 179 170 168 169 165 155 152 151 152 154 162 165 158 153 158 168 187 206 186 147 135 144 145 152 178 115 57 74 58 48 58 64 63 63 59 63 55 53 66 104 130 132 144 153 162 170 180 185 187 181 178 182 180 177 173 171 171 177 176 172 164 161 167 164 185 207 197 173 152 141 141 161 191 104 54 69 60 48 57 65 62 60 57 64 55 50 94 111 124 130 135 150 159 163 172 179 184 184 178 178 177 173 171 174 177 178 176 169 165 161 163 161 180 205 201 183 171 177 178 180 194 101 55 65 60 47 55 65 63 59 58 63 57 52 90 105 117 122 130 143 153 157 163 171 174 182 183 182 178 174 175 175 177 175 172 163 161 159 157 162 178 200 201 188 181 172 177 187 198 98 57 63 61 48 52 61 64 63 60 65 57 51 95 104 113 117 127 136 145 152 156 162 162 165 173 177 182 183 183 180 181 177 165 153 154 152 153 160 174 193 200 188 185 180 182 192 196 101 60 60 56 49 50 60 66 64 62 64 59 53 99 104 111 112 118 132 142 147 155 158 160 159 162 171 176 184 186 183 180 169 154 141 135 145 155 164 180 196 205 188 189 188 189 193 192 98 61 64 55 49 49 60 66 63 64 63 60 57 99 105 108 112 113 125 139 143 150 155 158 164 169 174 176 182 183 182 177 163 141 133 147 151 164 170 185 200 210 194 188 192 186 185 180 88 64 67 60 46 50 59 65 64 64 64 59 56 101 103 108 109 109 118 134 143 143 147 155 159 166 171 174 177 179 178 172 153 129 143 161 159 166 171 186 197 207 203 185 191 183 179 164 73 67 67 66 48 50 57 65 65 63 64 61 57 103 108 114 112 110 115 128 138 144 145 152 156 159 164 168 172 172 169 161 139 125 147 156 161 162 164 180 188 188 197 185 187 181 180 137 65 70 68 70 52 47 53 62 65 63 65 61 58 105 109 112 120 113 112 122 134 141 149 150 153 155 159 164 167 167 162 152 134 115 126 119 106 99 109 141 158 150 155 175 184 176 175 106 63 70 68 68 50 46 50 57 63 63 64 61 59 107 110 110 117 117 114 117 128 137 147 148 150 153 156 161 162 163 156 150 148 105 70 45 26 25 47 73 74 79 128 177 180 173 157 77 66 68 67 68 52 49 51 56 62 62 62 62 60 101 107 108 114 115 114 117 125 134 143 148 149 152 154 158 160 158 155 160 158 132 88 73 73 64 52 66 91 138 160 174 173 171 125 64 67 63 64 68 54 50 49 54 60 60 60 62 60 98 105 105 109 111 114 117 125 131 139 145 148 153 153 156 157 156 161 168 165 153 139 122 115 105 89 103 150 182 161 171 173 162 89 64 64 62 64 69 56 48 49 56 58 60 59 62 60 89 99 108 106 109 111 119 120 125 134 140 146 152 153 153 153 156 159 162 160 150 136 129 133 133 122 133 148 178 168 168 175 132 61 67 66 65 63 69 57 47 50 55 58 59 61 62 60 89 96 105 107 105 107 117 120 123 124 133 141 149 153 151 145 151 145 139 140 138 128 126 124 129 125 136 142 164 172 168 168 87 58 67 63 62 61 69 57 39 44 55 56 59 63 62 62 84 91 92 98 102 103 113 119 121 118 128 138 146 151 147 142 140 128 127 128 129 126 135 140 135 130 143 146 149 166 174 131 62 65 62 59 67 63 68 83 89 65 42 52 60 60 62 63 77 84 84 91 99 101 107 112 117 118 122 134 145 149 144 134 127 127 129 130 134 125 126 132 152 153 151 150 151 165 171 87 59 65 64 61 58 86 122 138 208 207 154 71 52 56 55 56 69 77 83 85 93 91 102 112 116 118 119 127 140 144 142 131 112 95 85 75 62 58 56 59 87 88 83 127 142 165 149 62 65 62 59 77 113 192 156 84 185 196 197 168 81 70 75 69 58 65 73 82 81 79 95 107 114 116 116 123 136 142 136 132 131 102 71 58 49 41 33 41 36 49 60 99 136 168 111 53 63 71 138 186 203 195 146 87 91 72 79 95 103 82 61 74 55 57 68 75 76 77 84 96 106 110 111 121 130 138 136 142 153 159 152 152 154 145 133 136 147 158 156 155 147 158 74 57 60 123 181 174 126 89 72 67 57 43 55 67 76 86 60 45 51 45 52 68 75 73 77 88 96 100 104 113 115 121 134 146 149 146 149 148 155 168 174 179 178 169 169 174 161 131 44 47 82 150 168 136 104 75 66 80 67 58 48 54 68 88 121 102 51 45 38 53 66 65 70 86 92 96 102 103 109 116 130 136 136 133 136 138 137 135 128 130 143 158 165 164 147 87 62 74 123 160 170 100 99 107 79 71 86 75 57 45 49 65 122 130 43 48 40 39 55 61 59 71 82 87 88 93 105 118 123 128 130 124 111 98 94 88 67 55 84 129 147 148 105 48 82 142 161 164 164 76 72 85 100 88 72 90 84 54 48 54 73 100 73 36 44 31 37 53 51 55 67 74 77 87 97 108 118 125 132 122 106 86 80 82 75 73 83 110 129 126 46 22 130 177 196 193 166 72 52 54 73 100 92 75 99 95 65 68 61 63 91 65 42 37 22 28 39 44 57 68 74 83 92 101 119 131 143 141 134 136 140 139 134 136 139 138 136 85 23 114 202 198 199 180 173 98 36 86 130 150 137 99 77 101 99 72 56 43 77 82 79 70 56 28 20 25 36 50 63 73 83 98 111 124 139 156 160 159 169 168 165 163 159 149 114 43 26 133 183 192 177 152 137 130 125 139 173 195 186 137 101 88 101 105 70 46 77 72 84 87 87 81 64 37 20 31 40 46 65 88 108 110 125 149 157 153 162 164 158 159 154 140 78 21 11 61 144 168 173 157 138 150 148 132 159 182 183 136 106 116 95 106 109 82,Training\n",
      "\n"
     ]
    }
   ],
   "source": [
    "# see sample content of csv file\n",
    "print(content[0])\n",
    "print(content[1])"
   ]
  },
  {
   "cell_type": "markdown",
   "metadata": {},
   "source": [
    "As we observe from the output of the first two lines of the dataset file, we notice that it contains three features: emotion, pixels, and Usage. Emotion is a labeling feature that categorizes the facial expression to one of seven categories (0 = Angry, 1 = Disgust, 2 = Fear, 3 = Happy, 4 = Sad, 5 = Surprise, 6 = Neutral). For this project's intents and purposes, we will be primarily be looking at five emotions, anger, disgust, happy, surprise, and neutral. The emotions fear and sadness do not apply to this type of advertisement."
   ]
  },
  {
   "cell_type": "code",
   "execution_count": 4,
   "metadata": {},
   "outputs": [
    {
     "name": "stderr",
     "output_type": "stream",
     "text": [
      "Using TensorFlow backend.\n"
     ]
    }
   ],
   "source": [
    "import numpy as np\n",
    "import matplotlib.pyplot as plt\n",
    "import keras\n",
    "%matplotlib inline"
   ]
  },
  {
   "cell_type": "code",
   "execution_count": 5,
   "metadata": {},
   "outputs": [
    {
     "name": "stdout",
     "output_type": "stream",
     "text": [
      "There are a total of 35888 pictures\n"
     ]
    }
   ],
   "source": [
    "faces = np.array(content)\n",
    "print(\"There are a total of {} pictures\".format(len(faces)))"
   ]
  },
  {
   "cell_type": "code",
   "execution_count": 6,
   "metadata": {},
   "outputs": [
    {
     "name": "stdout",
     "output_type": "stream",
     "text": [
      "There are 19782 training data and 4907 test cases\n"
     ]
    }
   ],
   "source": [
    "def set_train_test_data(faces):\n",
    "    \n",
    "    # initialize training and test set\n",
    "    x_train, y_train, x_test, y_test = [], [], [], []\n",
    "\n",
    "    for i, instance in enumerate(faces):\n",
    "\n",
    "        # skip first step; header\n",
    "        if i == 0:\n",
    "            continue\n",
    "\n",
    "        emotion, pixel, usage = instance.split(',')\n",
    "\n",
    "        img = np.array(pixel.split(\" \"))\n",
    "\n",
    "        if emotion in ['0', '1', '3', '5', '6']:\n",
    "\n",
    "            if emotion == '3':\n",
    "                emotion = '2'\n",
    "            elif emotion == '5':\n",
    "                emotion = '3'\n",
    "            elif emotion == '6':\n",
    "                emotion = '4'\n",
    "\n",
    "            if 'Training' in usage:\n",
    "                x_train.append(img)\n",
    "                y_train.append(emotion)\n",
    "            else:\n",
    "                x_test.append(img)\n",
    "                y_test.append(emotion)\n",
    "\n",
    "    print(\"There are {} training data and {} test cases\".format(len(y_train), len(y_test)))\n",
    "    return x_train, x_test, y_train, y_test\n",
    "\n",
    "x_train, x_test, y_train, y_test = set_train_test_data(faces)"
   ]
  },
  {
   "cell_type": "markdown",
   "metadata": {},
   "source": [
    "After removing two of the facial emotions, the training data drops from over 28,000 to around 19,000 and the training data drops from over 7,000 to around 4,900"
   ]
  },
  {
   "cell_type": "markdown",
   "metadata": {},
   "source": [
    "## Modeling\n",
    "\n",
    "Now that the data is loaded, it is now time to generate a model that will be able to classify the emotions. First, a baseline accuracy rate will be determined using Principal Component Analysis (PCA) and a Random Forest model. Once I find a baseline accuracy rate, I'll then use a convolutional neural network (CNN) using Keras and Tensorflow will be used to improve upon it."
   ]
  },
  {
   "cell_type": "markdown",
   "metadata": {},
   "source": [
    "## Setting the Baseline"
   ]
  },
  {
   "cell_type": "code",
   "execution_count": 7,
   "metadata": {},
   "outputs": [],
   "source": [
    "import pandas as pd\n",
    "\n",
    "feat_cols = [ 'pixel '+str(i+1) for i in range(width*height*color)]\n",
    "df = pd.DataFrame(x_train+x_test, columns=feat_cols)\n",
    "df['label'] = y_train+y_test"
   ]
  },
  {
   "cell_type": "code",
   "execution_count": 8,
   "metadata": {},
   "outputs": [
    {
     "data": {
      "text/html": [
       "<div>\n",
       "<style scoped>\n",
       "    .dataframe tbody tr th:only-of-type {\n",
       "        vertical-align: middle;\n",
       "    }\n",
       "\n",
       "    .dataframe tbody tr th {\n",
       "        vertical-align: top;\n",
       "    }\n",
       "\n",
       "    .dataframe thead th {\n",
       "        text-align: right;\n",
       "    }\n",
       "</style>\n",
       "<table border=\"1\" class=\"dataframe\">\n",
       "  <thead>\n",
       "    <tr style=\"text-align: right;\">\n",
       "      <th></th>\n",
       "      <th>pixel 1</th>\n",
       "      <th>pixel 2</th>\n",
       "      <th>pixel 3</th>\n",
       "      <th>pixel 4</th>\n",
       "      <th>pixel 5</th>\n",
       "      <th>pixel 6</th>\n",
       "      <th>pixel 7</th>\n",
       "      <th>pixel 8</th>\n",
       "      <th>pixel 9</th>\n",
       "      <th>pixel 10</th>\n",
       "      <th>...</th>\n",
       "      <th>pixel 2296</th>\n",
       "      <th>pixel 2297</th>\n",
       "      <th>pixel 2298</th>\n",
       "      <th>pixel 2299</th>\n",
       "      <th>pixel 2300</th>\n",
       "      <th>pixel 2301</th>\n",
       "      <th>pixel 2302</th>\n",
       "      <th>pixel 2303</th>\n",
       "      <th>pixel 2304</th>\n",
       "      <th>label</th>\n",
       "    </tr>\n",
       "  </thead>\n",
       "  <tbody>\n",
       "    <tr>\n",
       "      <th>0</th>\n",
       "      <td>70</td>\n",
       "      <td>80</td>\n",
       "      <td>82</td>\n",
       "      <td>72</td>\n",
       "      <td>58</td>\n",
       "      <td>58</td>\n",
       "      <td>60</td>\n",
       "      <td>63</td>\n",
       "      <td>54</td>\n",
       "      <td>58</td>\n",
       "      <td>...</td>\n",
       "      <td>182</td>\n",
       "      <td>183</td>\n",
       "      <td>136</td>\n",
       "      <td>106</td>\n",
       "      <td>116</td>\n",
       "      <td>95</td>\n",
       "      <td>106</td>\n",
       "      <td>109</td>\n",
       "      <td>82</td>\n",
       "      <td>0</td>\n",
       "    </tr>\n",
       "    <tr>\n",
       "      <th>1</th>\n",
       "      <td>151</td>\n",
       "      <td>150</td>\n",
       "      <td>147</td>\n",
       "      <td>155</td>\n",
       "      <td>148</td>\n",
       "      <td>133</td>\n",
       "      <td>111</td>\n",
       "      <td>140</td>\n",
       "      <td>170</td>\n",
       "      <td>174</td>\n",
       "      <td>...</td>\n",
       "      <td>108</td>\n",
       "      <td>95</td>\n",
       "      <td>108</td>\n",
       "      <td>102</td>\n",
       "      <td>67</td>\n",
       "      <td>171</td>\n",
       "      <td>193</td>\n",
       "      <td>183</td>\n",
       "      <td>184</td>\n",
       "      <td>0</td>\n",
       "    </tr>\n",
       "    <tr>\n",
       "      <th>2</th>\n",
       "      <td>4</td>\n",
       "      <td>0</td>\n",
       "      <td>0</td>\n",
       "      <td>0</td>\n",
       "      <td>0</td>\n",
       "      <td>0</td>\n",
       "      <td>0</td>\n",
       "      <td>0</td>\n",
       "      <td>0</td>\n",
       "      <td>0</td>\n",
       "      <td>...</td>\n",
       "      <td>34</td>\n",
       "      <td>31</td>\n",
       "      <td>31</td>\n",
       "      <td>31</td>\n",
       "      <td>27</td>\n",
       "      <td>31</td>\n",
       "      <td>30</td>\n",
       "      <td>29</td>\n",
       "      <td>30</td>\n",
       "      <td>4</td>\n",
       "    </tr>\n",
       "    <tr>\n",
       "      <th>3</th>\n",
       "      <td>77</td>\n",
       "      <td>78</td>\n",
       "      <td>79</td>\n",
       "      <td>79</td>\n",
       "      <td>78</td>\n",
       "      <td>75</td>\n",
       "      <td>60</td>\n",
       "      <td>55</td>\n",
       "      <td>47</td>\n",
       "      <td>48</td>\n",
       "      <td>...</td>\n",
       "      <td>124</td>\n",
       "      <td>139</td>\n",
       "      <td>150</td>\n",
       "      <td>179</td>\n",
       "      <td>180</td>\n",
       "      <td>175</td>\n",
       "      <td>125</td>\n",
       "      <td>67</td>\n",
       "      <td>68</td>\n",
       "      <td>2</td>\n",
       "    </tr>\n",
       "    <tr>\n",
       "      <th>4</th>\n",
       "      <td>85</td>\n",
       "      <td>84</td>\n",
       "      <td>90</td>\n",
       "      <td>121</td>\n",
       "      <td>101</td>\n",
       "      <td>102</td>\n",
       "      <td>133</td>\n",
       "      <td>153</td>\n",
       "      <td>153</td>\n",
       "      <td>169</td>\n",
       "      <td>...</td>\n",
       "      <td>151</td>\n",
       "      <td>111</td>\n",
       "      <td>106</td>\n",
       "      <td>102</td>\n",
       "      <td>99</td>\n",
       "      <td>89</td>\n",
       "      <td>58</td>\n",
       "      <td>73</td>\n",
       "      <td>84</td>\n",
       "      <td>2</td>\n",
       "    </tr>\n",
       "  </tbody>\n",
       "</table>\n",
       "<p>5 rows × 2305 columns</p>\n",
       "</div>"
      ],
      "text/plain": [
       "  pixel 1 pixel 2 pixel 3 pixel 4 pixel 5 pixel 6 pixel 7 pixel 8 pixel 9  \\\n",
       "0      70      80      82      72      58      58      60      63      54   \n",
       "1     151     150     147     155     148     133     111     140     170   \n",
       "2       4       0       0       0       0       0       0       0       0   \n",
       "3      77      78      79      79      78      75      60      55      47   \n",
       "4      85      84      90     121     101     102     133     153     153   \n",
       "\n",
       "  pixel 10  ...  pixel 2296 pixel 2297 pixel 2298 pixel 2299 pixel 2300  \\\n",
       "0       58  ...         182        183        136        106        116   \n",
       "1      174  ...         108         95        108        102         67   \n",
       "2        0  ...          34         31         31         31         27   \n",
       "3       48  ...         124        139        150        179        180   \n",
       "4      169  ...         151        111        106        102         99   \n",
       "\n",
       "  pixel 2301 pixel 2302 pixel 2303 pixel 2304 label  \n",
       "0         95        106        109         82     0  \n",
       "1        171        193        183        184     0  \n",
       "2         31         30         29         30     4  \n",
       "3        175        125         67         68     2  \n",
       "4         89         58         73         84     2  \n",
       "\n",
       "[5 rows x 2305 columns]"
      ]
     },
     "execution_count": 8,
     "metadata": {},
     "output_type": "execute_result"
    }
   ],
   "source": [
    "df.head()"
   ]
  },
  {
   "cell_type": "code",
   "execution_count": 9,
   "metadata": {},
   "outputs": [],
   "source": [
    "# get position of label for use later\n",
    "label_pos = len(df.columns)-1"
   ]
  },
  {
   "cell_type": "code",
   "execution_count": 10,
   "metadata": {},
   "outputs": [
    {
     "data": {
      "image/png": "[encoded data removed]",
      "text/plain": [
       "<Figure size 432x288 with 1 Axes>"
      ]
     },
     "metadata": {},
     "output_type": "display_data"
    }
   ],
   "source": [
    "# find how many pca components to use\n",
    "from sklearn.preprocessing import StandardScaler\n",
    "\n",
    "df_pca = df[feat_cols]\n",
    "\n",
    "# normalize data\n",
    "X = StandardScaler().fit_transform(df_pca)\n",
    "\n",
    "# transpose matrix\n",
    "Cx = np.cov(X.T)\n",
    "\n",
    "# get eigenvalues and vectors\n",
    "eig_val_cov, eig_vec_cov = np.linalg.eig(Cx)\n",
    "\n",
    "plt.plot(eig_val_cov)\n",
    "plt.show()"
   ]
  },
  {
   "cell_type": "code",
   "execution_count": 11,
   "metadata": {},
   "outputs": [
    {
     "data": {
      "image/png": "[encoded data removed]",
      "text/plain": [
       "<Figure size 432x288 with 1 Axes>"
      ]
     },
     "metadata": {},
     "output_type": "display_data"
    }
   ],
   "source": [
    "# not very informative. limit number of eigen values\n",
    "\n",
    "plt.plot(eig_val_cov[:8])\n",
    "plt.show()"
   ]
  },
  {
   "cell_type": "code",
   "execution_count": 12,
   "metadata": {},
   "outputs": [
    {
     "name": "stdout",
     "output_type": "stream",
     "text": [
      "[0.29064697 0.10268338 0.09279428 0.05513855]\n"
     ]
    }
   ],
   "source": [
    "from sklearn.decomposition import PCA\n",
    "\n",
    "pca = PCA(n_components=4)\n",
    "pca_result = pca.fit_transform(df[feat_cols].values)\n",
    "\n",
    "df['pca-one'] = pca_result[:,0]\n",
    "df['pca-two'] = pca_result[:,1] \n",
    "df['pca-three'] = pca_result[:,2]\n",
    "df['pca-four'] = pca_result[:,3]\n",
    "\n",
    "print(pca.explained_variance_ratio_)"
   ]
  },
  {
   "cell_type": "code",
   "execution_count": 13,
   "metadata": {},
   "outputs": [
    {
     "data": {
      "text/html": [
       "<div>\n",
       "<style scoped>\n",
       "    .dataframe tbody tr th:only-of-type {\n",
       "        vertical-align: middle;\n",
       "    }\n",
       "\n",
       "    .dataframe tbody tr th {\n",
       "        vertical-align: top;\n",
       "    }\n",
       "\n",
       "    .dataframe thead th {\n",
       "        text-align: right;\n",
       "    }\n",
       "</style>\n",
       "<table border=\"1\" class=\"dataframe\">\n",
       "  <thead>\n",
       "    <tr style=\"text-align: right;\">\n",
       "      <th></th>\n",
       "      <th>pixel 1</th>\n",
       "      <th>pixel 2</th>\n",
       "      <th>pixel 3</th>\n",
       "      <th>pixel 4</th>\n",
       "      <th>pixel 5</th>\n",
       "      <th>pixel 6</th>\n",
       "      <th>pixel 7</th>\n",
       "      <th>pixel 8</th>\n",
       "      <th>pixel 9</th>\n",
       "      <th>pixel 10</th>\n",
       "      <th>...</th>\n",
       "      <th>pixel 2300</th>\n",
       "      <th>pixel 2301</th>\n",
       "      <th>pixel 2302</th>\n",
       "      <th>pixel 2303</th>\n",
       "      <th>pixel 2304</th>\n",
       "      <th>label</th>\n",
       "      <th>pca-one</th>\n",
       "      <th>pca-two</th>\n",
       "      <th>pca-three</th>\n",
       "      <th>pca-four</th>\n",
       "    </tr>\n",
       "  </thead>\n",
       "  <tbody>\n",
       "    <tr>\n",
       "      <th>0</th>\n",
       "      <td>70</td>\n",
       "      <td>80</td>\n",
       "      <td>82</td>\n",
       "      <td>72</td>\n",
       "      <td>58</td>\n",
       "      <td>58</td>\n",
       "      <td>60</td>\n",
       "      <td>63</td>\n",
       "      <td>54</td>\n",
       "      <td>58</td>\n",
       "      <td>...</td>\n",
       "      <td>116</td>\n",
       "      <td>95</td>\n",
       "      <td>106</td>\n",
       "      <td>109</td>\n",
       "      <td>82</td>\n",
       "      <td>0</td>\n",
       "      <td>728.167470</td>\n",
       "      <td>-624.352538</td>\n",
       "      <td>675.851696</td>\n",
       "      <td>-413.355401</td>\n",
       "    </tr>\n",
       "    <tr>\n",
       "      <th>1</th>\n",
       "      <td>151</td>\n",
       "      <td>150</td>\n",
       "      <td>147</td>\n",
       "      <td>155</td>\n",
       "      <td>148</td>\n",
       "      <td>133</td>\n",
       "      <td>111</td>\n",
       "      <td>140</td>\n",
       "      <td>170</td>\n",
       "      <td>174</td>\n",
       "      <td>...</td>\n",
       "      <td>67</td>\n",
       "      <td>171</td>\n",
       "      <td>193</td>\n",
       "      <td>183</td>\n",
       "      <td>184</td>\n",
       "      <td>0</td>\n",
       "      <td>-44.269447</td>\n",
       "      <td>755.789118</td>\n",
       "      <td>-382.175523</td>\n",
       "      <td>-496.038178</td>\n",
       "    </tr>\n",
       "    <tr>\n",
       "      <th>2</th>\n",
       "      <td>4</td>\n",
       "      <td>0</td>\n",
       "      <td>0</td>\n",
       "      <td>0</td>\n",
       "      <td>0</td>\n",
       "      <td>0</td>\n",
       "      <td>0</td>\n",
       "      <td>0</td>\n",
       "      <td>0</td>\n",
       "      <td>0</td>\n",
       "      <td>...</td>\n",
       "      <td>27</td>\n",
       "      <td>31</td>\n",
       "      <td>30</td>\n",
       "      <td>29</td>\n",
       "      <td>30</td>\n",
       "      <td>4</td>\n",
       "      <td>1844.072825</td>\n",
       "      <td>-1748.535298</td>\n",
       "      <td>-911.142174</td>\n",
       "      <td>-3.464172</td>\n",
       "    </tr>\n",
       "    <tr>\n",
       "      <th>3</th>\n",
       "      <td>77</td>\n",
       "      <td>78</td>\n",
       "      <td>79</td>\n",
       "      <td>79</td>\n",
       "      <td>78</td>\n",
       "      <td>75</td>\n",
       "      <td>60</td>\n",
       "      <td>55</td>\n",
       "      <td>47</td>\n",
       "      <td>48</td>\n",
       "      <td>...</td>\n",
       "      <td>180</td>\n",
       "      <td>175</td>\n",
       "      <td>125</td>\n",
       "      <td>67</td>\n",
       "      <td>68</td>\n",
       "      <td>2</td>\n",
       "      <td>1065.058390</td>\n",
       "      <td>-1211.813421</td>\n",
       "      <td>166.291979</td>\n",
       "      <td>604.470258</td>\n",
       "    </tr>\n",
       "    <tr>\n",
       "      <th>4</th>\n",
       "      <td>85</td>\n",
       "      <td>84</td>\n",
       "      <td>90</td>\n",
       "      <td>121</td>\n",
       "      <td>101</td>\n",
       "      <td>102</td>\n",
       "      <td>133</td>\n",
       "      <td>153</td>\n",
       "      <td>153</td>\n",
       "      <td>169</td>\n",
       "      <td>...</td>\n",
       "      <td>99</td>\n",
       "      <td>89</td>\n",
       "      <td>58</td>\n",
       "      <td>73</td>\n",
       "      <td>84</td>\n",
       "      <td>2</td>\n",
       "      <td>-1564.419220</td>\n",
       "      <td>-2234.973432</td>\n",
       "      <td>425.538869</td>\n",
       "      <td>-156.844421</td>\n",
       "    </tr>\n",
       "  </tbody>\n",
       "</table>\n",
       "<p>5 rows × 2309 columns</p>\n",
       "</div>"
      ],
      "text/plain": [
       "  pixel 1 pixel 2 pixel 3 pixel 4 pixel 5 pixel 6 pixel 7 pixel 8 pixel 9  \\\n",
       "0      70      80      82      72      58      58      60      63      54   \n",
       "1     151     150     147     155     148     133     111     140     170   \n",
       "2       4       0       0       0       0       0       0       0       0   \n",
       "3      77      78      79      79      78      75      60      55      47   \n",
       "4      85      84      90     121     101     102     133     153     153   \n",
       "\n",
       "  pixel 10     ...     pixel 2300 pixel 2301 pixel 2302 pixel 2303 pixel 2304  \\\n",
       "0       58     ...            116         95        106        109         82   \n",
       "1      174     ...             67        171        193        183        184   \n",
       "2        0     ...             27         31         30         29         30   \n",
       "3       48     ...            180        175        125         67         68   \n",
       "4      169     ...             99         89         58         73         84   \n",
       "\n",
       "  label      pca-one      pca-two   pca-three    pca-four  \n",
       "0     0   728.167470  -624.352538  675.851696 -413.355401  \n",
       "1     0   -44.269447   755.789118 -382.175523 -496.038178  \n",
       "2     4  1844.072825 -1748.535298 -911.142174   -3.464172  \n",
       "3     2  1065.058390 -1211.813421  166.291979  604.470258  \n",
       "4     2 -1564.419220 -2234.973432  425.538869 -156.844421  \n",
       "\n",
       "[5 rows x 2309 columns]"
      ]
     },
     "execution_count": 13,
     "metadata": {},
     "output_type": "execute_result"
    }
   ],
   "source": [
    "# show the dataframe with the pca values\n",
    "df.head()"
   ]
  },
  {
   "cell_type": "code",
   "execution_count": 14,
   "metadata": {},
   "outputs": [],
   "source": [
    "from sklearn.ensemble import RandomForestClassifier\n",
    "from sklearn.model_selection import cross_val_score\n",
    "\n",
    "rf = RandomForestClassifier()\n",
    "average_score = cross_val_score(rf, df.iloc[:, label_pos+1:], df.iloc[:, label_pos], cv=10)"
   ]
  },
  {
   "cell_type": "code",
   "execution_count": 15,
   "metadata": {},
   "outputs": [
    {
     "name": "stdout",
     "output_type": "stream",
     "text": [
      "Baseline performance of the Random Forest model with PCA values is 41.84% with a standard deviation of +/- 0.02\n"
     ]
    }
   ],
   "source": [
    "print('Baseline performance of the Random Forest model with PCA values is {0:.2f}% with a standard deviation of +/- {1:.2f}'.format(average_score.mean()*100, average_score.std()*2))"
   ]
  },
  {
   "cell_type": "markdown",
   "metadata": {},
   "source": [
    "Now that the baseline accuracy has been achieved, the CNN model will be run with the intent of performing better than the Random Forest model accuracy rating."
   ]
  },
  {
   "cell_type": "code",
   "execution_count": 16,
   "metadata": {},
   "outputs": [],
   "source": [
    "from keras.preprocessing.image import array_to_img, image\n",
    "from keras.models import Sequential\n",
    "from keras.layers import Conv2D, MaxPooling2D, Dropout, AveragePooling2D, BatchNormalization, Flatten, Dense\n",
    "from keras import backend as K"
   ]
  },
  {
   "cell_type": "code",
   "execution_count": 17,
   "metadata": {},
   "outputs": [],
   "source": [
    "# allocates GPU memory based on runtime allocations. doesn't releases memory because of potential memory fragmentation\n",
    "# without this option, getting images will not work\n",
    "import tensorflow as tf\n",
    "config = tf.ConfigProto()\n",
    "config.gpu_options.allow_growth = True\n",
    "session = tf.Session(config=config)"
   ]
  },
  {
   "cell_type": "code",
   "execution_count": 18,
   "metadata": {},
   "outputs": [
    {
     "data": {
      "image/png": "[encoded data removed]",
      "text/plain": [
       "<Figure size 432x288 with 1 Axes>"
      ]
     },
     "metadata": {},
     "output_type": "display_data"
    }
   ],
   "source": [
    "# sample picture\n",
    "sample = np.array(faces[2].split(\",\")[1].split(\" \"))\n",
    "sample = sample.reshape(width, height, 1)\n",
    "plt.imshow(array_to_img(sample))\n",
    "plt.show()"
   ]
  },
  {
   "cell_type": "code",
   "execution_count": 19,
   "metadata": {},
   "outputs": [],
   "source": [
    "def convertLabelsToCategoryLabels(label):\n",
    "    # convert the labels into categories\n",
    "    tmp = []\n",
    "    for emotion in label:\n",
    "        emotion = keras.utils.to_categorical(emotion, num_classes)\n",
    "        tmp.append(emotion)\n",
    "    return tmp\n",
    "\n",
    "y_train = convertLabelsToCategoryLabels(y_train)\n",
    "y_test = convertLabelsToCategoryLabels(y_test)"
   ]
  },
  {
   "cell_type": "code",
   "execution_count": 20,
   "metadata": {},
   "outputs": [],
   "source": [
    "def convertListToArray(x_train, y_train, x_test, y_test, width, height):\n",
    "    # need to convert list into arrays to work with CNNs\n",
    "    x_train = np.array(x_train, 'float32')\n",
    "    y_train = np.array(y_train, 'float32')\n",
    "    x_test = np.array(x_test, 'float32')\n",
    "    y_test = np.array(y_test, 'float32')\n",
    "\n",
    "    # normalize values between 0 - 1\n",
    "    x_train = x_train / 255.0\n",
    "    x_test = x_test / 255.0\n",
    "\n",
    "    # reshape values into image format\n",
    "    if K.image_data_format() == 'channels_first':\n",
    "        x_train = x_train.reshape(x_train.shape[0], 1, width, height)\n",
    "        x_test = x_test.reshape(x_test.shape[0], 1, width, height)\n",
    "        input_shape = (1, width, height)\n",
    "    else:\n",
    "        x_train = x_train.reshape(x_train.shape[0], width, height, 1)\n",
    "        x_test = x_test.reshape(x_test.shape[0], width, height, 1)\n",
    "        input_shape = (width, height, 1)\n",
    "    \n",
    "    return x_train, y_train, x_test, y_test, input_shape"
   ]
  },
  {
   "cell_type": "code",
   "execution_count": 21,
   "metadata": {},
   "outputs": [],
   "source": [
    "x_train, y_train, x_test, y_test, input_shape = convertListToArray(x_train, y_train, x_test, y_test, width, height)"
   ]
  },
  {
   "cell_type": "code",
   "execution_count": 22,
   "metadata": {},
   "outputs": [],
   "source": [
    "# create CNN model\n",
    "model = Sequential()\n",
    "\n",
    "# first CNN layer\n",
    "model.add(Conv2D(49, kernel_size=(3, 3),\n",
    "                 activation='relu',\n",
    "                 input_shape=input_shape))\n",
    "\n",
    "# second CNN layer\n",
    "model.add(Conv2D(49, (3, 3), activation='relu'))\n",
    "model.add(MaxPooling2D(pool_size=(3, 3)))\n",
    "model.add(Dropout(0.2))\n",
    "\n",
    "# third CNN layer\n",
    "model.add(Conv2D(98, (3,3), activation='relu'))\n",
    "model.add(AveragePooling2D(pool_size=(3,3)))\n",
    "model.add(Dropout(0.25))\n",
    "\n",
    "# flatten to use for dense layers\n",
    "model.add(Flatten())\n",
    "model.add(Dense(784, activation='relu'))\n",
    "model.add(Dropout(0.5))\n",
    "\n",
    "model.add(BatchNormalization())\n",
    "model.add(Dense(num_classes, activation='softmax'))\n",
    "\n",
    "model.compile(loss=keras.losses.categorical_crossentropy,\n",
    "              optimizer=keras.optimizers.Adam(),\n",
    "              metrics=['accuracy'])"
   ]
  },
  {
   "cell_type": "code",
   "execution_count": 23,
   "metadata": {},
   "outputs": [
    {
     "name": "stdout",
     "output_type": "stream",
     "text": [
      "Train on 19782 samples, validate on 4907 samples\n",
      "Epoch 1/20\n",
      "19782/19782 [==============================] - 9s 476us/step - loss: 1.2325 - acc: 0.4861 - val_loss: 1.0876 - val_acc: 0.5441\n",
      "Epoch 2/20\n",
      "19782/19782 [==============================] - 7s 360us/step - loss: 0.9776 - acc: 0.6103 - val_loss: 0.8540 - val_acc: 0.6603\n",
      "Epoch 3/20\n",
      "19782/19782 [==============================] - 7s 359us/step - loss: 0.8836 - acc: 0.6557 - val_loss: 0.8261 - val_acc: 0.6705\n",
      "Epoch 4/20\n",
      "19782/19782 [==============================] - 7s 360us/step - loss: 0.8349 - acc: 0.6758 - val_loss: 0.7930 - val_acc: 0.6800\n",
      "Epoch 5/20\n",
      "19782/19782 [==============================] - 7s 359us/step - loss: 0.7945 - acc: 0.6896 - val_loss: 0.7195 - val_acc: 0.7204\n",
      "Epoch 6/20\n",
      "19782/19782 [==============================] - 7s 359us/step - loss: 0.7608 - acc: 0.7086 - val_loss: 0.7039 - val_acc: 0.7279\n",
      "Epoch 7/20\n",
      "19782/19782 [==============================] - 7s 359us/step - loss: 0.7302 - acc: 0.7161 - val_loss: 0.6792 - val_acc: 0.7310\n",
      "Epoch 8/20\n",
      "19782/19782 [==============================] - 7s 359us/step - loss: 0.7045 - acc: 0.7290 - val_loss: 0.6926 - val_acc: 0.7286\n",
      "Epoch 9/20\n",
      "19782/19782 [==============================] - 7s 363us/step - loss: 0.6781 - acc: 0.7397 - val_loss: 0.6732 - val_acc: 0.7404\n",
      "Epoch 10/20\n",
      "19782/19782 [==============================] - 7s 360us/step - loss: 0.6566 - acc: 0.7464 - val_loss: 0.6546 - val_acc: 0.7451\n",
      "Epoch 11/20\n",
      "19782/19782 [==============================] - 7s 359us/step - loss: 0.6279 - acc: 0.7631 - val_loss: 0.6427 - val_acc: 0.7573\n",
      "Epoch 12/20\n",
      "19782/19782 [==============================] - 7s 360us/step - loss: 0.6151 - acc: 0.7659 - val_loss: 0.6447 - val_acc: 0.7471\n",
      "Epoch 13/20\n",
      "19782/19782 [==============================] - 7s 360us/step - loss: 0.5957 - acc: 0.7730 - val_loss: 0.6425 - val_acc: 0.7610\n",
      "Epoch 14/20\n",
      "19782/19782 [==============================] - 7s 360us/step - loss: 0.5725 - acc: 0.7835 - val_loss: 0.6271 - val_acc: 0.7624\n",
      "Epoch 15/20\n",
      "19782/19782 [==============================] - 7s 360us/step - loss: 0.5536 - acc: 0.7878 - val_loss: 0.6256 - val_acc: 0.7599\n",
      "Epoch 16/20\n",
      "19782/19782 [==============================] - 7s 359us/step - loss: 0.5329 - acc: 0.7987 - val_loss: 0.6228 - val_acc: 0.7618\n",
      "Epoch 17/20\n",
      "19782/19782 [==============================] - 7s 359us/step - loss: 0.5234 - acc: 0.8031 - val_loss: 0.6211 - val_acc: 0.7697\n",
      "Epoch 18/20\n",
      "19782/19782 [==============================] - 7s 359us/step - loss: 0.5006 - acc: 0.8089 - val_loss: 0.6067 - val_acc: 0.7775\n",
      "Epoch 19/20\n",
      "19782/19782 [==============================] - 7s 357us/step - loss: 0.4973 - acc: 0.8101 - val_loss: 0.6236 - val_acc: 0.7713\n",
      "Epoch 20/20\n",
      "19782/19782 [==============================] - 7s 359us/step - loss: 0.4839 - acc: 0.8187 - val_loss: 0.6310 - val_acc: 0.7713\n",
      "Test loss: 0.6310143839056972\n",
      "Test accuracy: 0.7713470552029327\n"
     ]
    }
   ],
   "source": [
    "def load_or_save_model(model, path_and_file_name, load_model=False):\n",
    "    if (load_model):\n",
    "        model.load_weights(path_and_file_name)\n",
    "    else:\n",
    "        model.fit(x_train, y_train,\n",
    "                  batch_size=batch_size,\n",
    "                  epochs=epochs,\n",
    "                  verbose=1,\n",
    "                  validation_data=(x_test, y_test))\n",
    "        score = model.evaluate(x_test, y_test, verbose=0)\n",
    "        print('Test loss:', score[0])\n",
    "        print('Test accuracy:', score[1])\n",
    "        model.save_weights(path_and_file_name)\n",
    "    \n",
    "    return model\n",
    "\n",
    "model = load_or_save_model(model, model_path+model_name, load_model)"
   ]
  },
  {
   "cell_type": "code",
   "execution_count": 24,
   "metadata": {},
   "outputs": [
    {
     "name": "stdout",
     "output_type": "stream",
     "text": [
      "Actual      angry  disgust  happy  surprise  neutral\n",
      "Prediction                                          \n",
      "angry         652       52     99        39      155\n",
      "disgust        11       47      1         1        1\n",
      "happy          67        3   1459        55      108\n",
      "surprise       30        3     37       681       23\n",
      "neutral       198        6    178        55      946\n"
     ]
    }
   ],
   "source": [
    "# set up dictionary to generate crosstab\n",
    "dic = {key:value for key, value in zip(list(set(y_test.argmax(axis=-1))), emotion_values)}\n",
    "\n",
    "predictions = model.predict(x_test)\n",
    "\n",
    "def show_confusion_matrix(predictions, emotion_values):\n",
    "    # convert id values into string values\n",
    "    prediction_string = []\n",
    "    actual_string = []\n",
    "    \n",
    "    for value in predictions.argmax(axis=-1):\n",
    "        prediction_string.append(dic[value])\n",
    "\n",
    "    for value in y_test.argmax(axis=-1):\n",
    "        actual_string.append(dic[value])\n",
    "        \n",
    "    # create categorical variables to input into crosstab\n",
    "    prediction = pd.Categorical(prediction_string, categories=emotion_values)\n",
    "    actual = pd.Categorical(actual_string, categories=emotion_values)\n",
    "\n",
    "    num_cross = pd.crosstab(prediction, actual, rownames=['Prediction'], colnames=['Actual'])\n",
    "    print(num_cross)\n",
    "\n",
    "show_confusion_matrix(predictions, emotion_values)"
   ]
  },
  {
   "cell_type": "markdown",
   "metadata": {},
   "source": [
    "While the CNN model does appear to perform better than the Random Forest model, let's see if it's possible to improve it even more."
   ]
  },
  {
   "cell_type": "code",
   "execution_count": 25,
   "metadata": {},
   "outputs": [],
   "source": [
    "# create CNN model\n",
    "model = Sequential()\n",
    "\n",
    "# first CNN layer\n",
    "model.add(Conv2D(64, kernel_size=(4, 4),\n",
    "                 activation='relu',\n",
    "                 input_shape=input_shape))\n",
    "\n",
    "# second CNN layer\n",
    "model.add(Conv2D(64, (4, 4), activation='relu'))\n",
    "model.add(MaxPooling2D(pool_size=(4, 4)))\n",
    "model.add(Dropout(0.2))\n",
    "\n",
    "# third CNN layer\n",
    "model.add(Conv2D(256, (4,4), activation='relu'))\n",
    "model.add(AveragePooling2D(pool_size=(4,4)))\n",
    "model.add(Dropout(0.25))\n",
    "\n",
    "model.add(Flatten())\n",
    "model.add(Dense(1024, activation='relu'))\n",
    "model.add(Dropout(0.5))\n",
    "model.add(Dense(512, activation='relu'))\n",
    "\n",
    "\n",
    "model.add(Dense(num_classes, activation='softmax'))\n",
    "\n",
    "model.compile(loss=keras.losses.categorical_crossentropy,\n",
    "              optimizer=keras.optimizers.Adam(),\n",
    "              metrics=['accuracy'])"
   ]
  },
  {
   "cell_type": "code",
   "execution_count": 26,
   "metadata": {},
   "outputs": [
    {
     "name": "stdout",
     "output_type": "stream",
     "text": [
      "Train on 19782 samples, validate on 4907 samples\n",
      "Epoch 1/20\n",
      "19782/19782 [==============================] - 10s 512us/step - loss: 1.4110 - acc: 0.3632 - val_loss: 1.3720 - val_acc: 0.3607\n",
      "Epoch 2/20\n",
      "19782/19782 [==============================] - 9s 465us/step - loss: 1.3203 - acc: 0.4152 - val_loss: 1.2836 - val_acc: 0.4522\n",
      "Epoch 3/20\n",
      "19782/19782 [==============================] - 9s 465us/step - loss: 1.2196 - acc: 0.4835 - val_loss: 1.1870 - val_acc: 0.5017\n",
      "Epoch 4/20\n",
      "19782/19782 [==============================] - 9s 465us/step - loss: 1.1404 - acc: 0.5339 - val_loss: 1.1442 - val_acc: 0.5313\n",
      "Epoch 5/20\n",
      "19782/19782 [==============================] - 9s 465us/step - loss: 1.0847 - acc: 0.5631 - val_loss: 1.0347 - val_acc: 0.5865\n",
      "Epoch 6/20\n",
      "19782/19782 [==============================] - 9s 465us/step - loss: 1.0405 - acc: 0.5894 - val_loss: 0.9749 - val_acc: 0.6175\n",
      "Epoch 7/20\n",
      "19782/19782 [==============================] - 9s 465us/step - loss: 0.9945 - acc: 0.6091 - val_loss: 0.9620 - val_acc: 0.6307\n",
      "Epoch 8/20\n",
      "19782/19782 [==============================] - 9s 465us/step - loss: 0.9665 - acc: 0.6259 - val_loss: 0.9462 - val_acc: 0.6279\n",
      "Epoch 9/20\n",
      "19782/19782 [==============================] - 9s 465us/step - loss: 0.9365 - acc: 0.6374 - val_loss: 0.9094 - val_acc: 0.6485\n",
      "Epoch 10/20\n",
      "19782/19782 [==============================] - 9s 465us/step - loss: 0.9196 - acc: 0.6424 - val_loss: 0.9255 - val_acc: 0.6419\n",
      "Epoch 11/20\n",
      "19782/19782 [==============================] - 9s 465us/step - loss: 0.8925 - acc: 0.6520 - val_loss: 0.8578 - val_acc: 0.6713\n",
      "Epoch 12/20\n",
      "19782/19782 [==============================] - 9s 465us/step - loss: 0.8760 - acc: 0.6613 - val_loss: 0.8847 - val_acc: 0.6589\n",
      "Epoch 13/20\n",
      "19782/19782 [==============================] - 9s 465us/step - loss: 0.8532 - acc: 0.6690 - val_loss: 0.8819 - val_acc: 0.6572\n",
      "Epoch 14/20\n",
      "19782/19782 [==============================] - 9s 465us/step - loss: 0.8336 - acc: 0.6804 - val_loss: 0.8686 - val_acc: 0.6666\n",
      "Epoch 15/20\n",
      "19782/19782 [==============================] - 9s 464us/step - loss: 0.8204 - acc: 0.6886 - val_loss: 0.8846 - val_acc: 0.6591\n",
      "Epoch 16/20\n",
      "19782/19782 [==============================] - 9s 464us/step - loss: 0.7963 - acc: 0.6969 - val_loss: 0.8368 - val_acc: 0.6811\n",
      "Epoch 17/20\n",
      "19782/19782 [==============================] - 9s 464us/step - loss: 0.7736 - acc: 0.7008 - val_loss: 0.8552 - val_acc: 0.6770\n",
      "Epoch 18/20\n",
      "19782/19782 [==============================] - 9s 465us/step - loss: 0.7705 - acc: 0.7056 - val_loss: 0.8222 - val_acc: 0.6829\n",
      "Epoch 19/20\n",
      "19782/19782 [==============================] - 9s 464us/step - loss: 0.7492 - acc: 0.7141 - val_loss: 0.8256 - val_acc: 0.6847\n",
      "Epoch 20/20\n",
      "19782/19782 [==============================] - 9s 465us/step - loss: 0.7310 - acc: 0.7226 - val_loss: 0.8588 - val_acc: 0.6788\n",
      "Test loss: 0.8588424787177363\n",
      "Test accuracy: 0.678826166676338\n"
     ]
    }
   ],
   "source": [
    "model = load_or_save_model(model, model_path+model_name2, load_model)"
   ]
  },
  {
   "cell_type": "code",
   "execution_count": 27,
   "metadata": {},
   "outputs": [
    {
     "name": "stdout",
     "output_type": "stream",
     "text": [
      "Actual      angry  disgust  happy  surprise  neutral\n",
      "Prediction                                          \n",
      "angry         559       62    105        41      183\n",
      "disgust        15       30      2         0        7\n",
      "happy         237       17   1534       114      384\n",
      "surprise       39        2     48       607       58\n",
      "neutral       108        0     85        69      601\n"
     ]
    }
   ],
   "source": [
    "predictions = model.predict(x_test)\n",
    "\n",
    "show_confusion_matrix(predictions, emotion_values)"
   ]
  },
  {
   "cell_type": "markdown",
   "metadata": {},
   "source": [
    "## Feature Engineering\n",
    "This second model appears to perform worse than the first model. But one constant between both models is the low accuracy for disgust emotions. It may be due to the fact that there is not enough training data available for disgusts. One thing that can be done to improve the models can be to modify the labels displaying the emotions to just three emotions: negative, positive, and neutral. Since anger and disgust are both negative emotions, they can be combined into one negative emotion label. Not only that but merely looking at the confusion matrix shows that most of the images predicting disgust are either disgust or anger. Surprise and neutral can be combined as well into one neutral emotion label because surprise can be either both a positive or negative emotion."
   ]
  },
  {
   "cell_type": "code",
   "execution_count": 28,
   "metadata": {},
   "outputs": [],
   "source": [
    "# dataset related initialization\n",
    "# modifying the total number of classes to 3\n",
    "num_classes = 3\n",
    "emotion_values = ['negative', 'positive', 'neutral']\n",
    "\n",
    "# initialize training and test set\n",
    "x_train, y_train, x_test, y_test = [], [], [], []"
   ]
  },
  {
   "cell_type": "code",
   "execution_count": 29,
   "metadata": {},
   "outputs": [
    {
     "name": "stdout",
     "output_type": "stream",
     "text": [
      "There are 19782 training data and 4907 test cases\n"
     ]
    }
   ],
   "source": [
    "for i, instance in enumerate(faces):\n",
    "    \n",
    "    # skip first step; header\n",
    "    if i == 0:\n",
    "        continue\n",
    "    \n",
    "    emotion, pixel, usage = instance.split(',')\n",
    "    \n",
    "    img = np.array(pixel.split(\" \"))\n",
    "    \n",
    "    if emotion in ['0', '1', '3', '5', '6']:\n",
    "        \n",
    "        # set 0 for negative emotion, 1 for positive, 2 for neutral\n",
    "        if emotion == '0' or emotion == '1':\n",
    "            emotion = '0'\n",
    "        elif emotion == '3':\n",
    "            emotion = '1'\n",
    "        elif emotion == '5' or emotion == '6':\n",
    "            emotion = '2'\n",
    "    \n",
    "        emotion = keras.utils.to_categorical(emotion, num_classes)\n",
    "        \n",
    "        if 'Training' in usage:\n",
    "            x_train.append(img)\n",
    "            y_train.append(emotion)\n",
    "        else:\n",
    "            x_test.append(img)\n",
    "            y_test.append(emotion)\n",
    "        \n",
    "print(\"There are {} training data and {} test cases\".format(len(y_train), len(y_test)))"
   ]
  },
  {
   "cell_type": "code",
   "execution_count": 30,
   "metadata": {},
   "outputs": [],
   "source": [
    "x_train, y_train, x_test, y_test, input_shape = convertListToArray(x_train, y_train, x_test, y_test, width, height)"
   ]
  },
  {
   "cell_type": "code",
   "execution_count": 31,
   "metadata": {},
   "outputs": [],
   "source": [
    "# create CNN model\n",
    "model = Sequential()\n",
    "\n",
    "# first CNN layer\n",
    "model.add(Conv2D(49, kernel_size=(3, 3),\n",
    "                 activation='relu',\n",
    "                 input_shape=input_shape))\n",
    "\n",
    "# second CNN layer\n",
    "model.add(Conv2D(49, (3, 3), activation='relu'))\n",
    "model.add(MaxPooling2D(pool_size=(3, 3)))\n",
    "model.add(Dropout(0.2))\n",
    "\n",
    "# third CNN layer\n",
    "model.add(Conv2D(98, (3,3), activation='relu'))\n",
    "model.add(AveragePooling2D(pool_size=(3,3)))\n",
    "model.add(Dropout(0.25))\n",
    "\n",
    "model.add(Flatten())\n",
    "model.add(Dense(784, activation='relu'))\n",
    "model.add(Dropout(0.5))\n",
    "\n",
    "model.add(BatchNormalization())\n",
    "model.add(Dense(num_classes, activation='softmax'))\n",
    "\n",
    "model.compile(loss=keras.losses.categorical_crossentropy,\n",
    "              optimizer=keras.optimizers.Adam(),\n",
    "              metrics=['accuracy'])"
   ]
  },
  {
   "cell_type": "code",
   "execution_count": 32,
   "metadata": {},
   "outputs": [
    {
     "name": "stdout",
     "output_type": "stream",
     "text": [
      "Train on 19782 samples, validate on 4907 samples\n",
      "Epoch 1/20\n",
      "19782/19782 [==============================] - 8s 426us/step - loss: 0.9643 - acc: 0.5367 - val_loss: 0.8061 - val_acc: 0.6385\n",
      "Epoch 2/20\n",
      "19782/19782 [==============================] - 7s 371us/step - loss: 0.7572 - acc: 0.6673 - val_loss: 0.7145 - val_acc: 0.6919\n",
      "Epoch 3/20\n",
      "19782/19782 [==============================] - 7s 371us/step - loss: 0.6972 - acc: 0.6969 - val_loss: 0.6158 - val_acc: 0.7355\n",
      "Epoch 4/20\n",
      "19782/19782 [==============================] - 7s 372us/step - loss: 0.6578 - acc: 0.7199 - val_loss: 0.6139 - val_acc: 0.7426\n",
      "Epoch 5/20\n",
      "19782/19782 [==============================] - 7s 370us/step - loss: 0.6297 - acc: 0.7346 - val_loss: 0.6210 - val_acc: 0.7436\n",
      "Epoch 6/20\n",
      "19782/19782 [==============================] - 7s 371us/step - loss: 0.6017 - acc: 0.7471 - val_loss: 0.5846 - val_acc: 0.7626\n",
      "Epoch 7/20\n",
      "19782/19782 [==============================] - 7s 371us/step - loss: 0.5855 - acc: 0.7549 - val_loss: 0.5461 - val_acc: 0.7736\n",
      "Epoch 8/20\n",
      "19782/19782 [==============================] - 7s 371us/step - loss: 0.5689 - acc: 0.7616 - val_loss: 0.5798 - val_acc: 0.7504\n",
      "Epoch 9/20\n",
      "19782/19782 [==============================] - 7s 371us/step - loss: 0.5553 - acc: 0.7692 - val_loss: 0.5304 - val_acc: 0.7836\n",
      "Epoch 10/20\n",
      "19782/19782 [==============================] - 7s 371us/step - loss: 0.5390 - acc: 0.7815 - val_loss: 0.5432 - val_acc: 0.7734\n",
      "Epoch 11/20\n",
      "19782/19782 [==============================] - 7s 371us/step - loss: 0.5272 - acc: 0.7846 - val_loss: 0.5366 - val_acc: 0.7750\n",
      "Epoch 12/20\n",
      "19782/19782 [==============================] - 7s 375us/step - loss: 0.5102 - acc: 0.7882 - val_loss: 0.5171 - val_acc: 0.7856\n",
      "Epoch 13/20\n",
      "19782/19782 [==============================] - 8s 382us/step - loss: 0.4965 - acc: 0.7966 - val_loss: 0.5132 - val_acc: 0.7881\n",
      "Epoch 14/20\n",
      "19782/19782 [==============================] - 7s 378us/step - loss: 0.4880 - acc: 0.7995 - val_loss: 0.4999 - val_acc: 0.7927\n",
      "Epoch 15/20\n",
      "19782/19782 [==============================] - 8s 388us/step - loss: 0.4675 - acc: 0.8121 - val_loss: 0.4995 - val_acc: 0.7970\n",
      "Epoch 16/20\n",
      "19782/19782 [==============================] - 8s 382us/step - loss: 0.4646 - acc: 0.8126 - val_loss: 0.5108 - val_acc: 0.7962\n",
      "Epoch 17/20\n",
      "19782/19782 [==============================] - 8s 380us/step - loss: 0.4524 - acc: 0.8191 - val_loss: 0.4992 - val_acc: 0.7936\n",
      "Epoch 18/20\n",
      "19782/19782 [==============================] - 7s 378us/step - loss: 0.4352 - acc: 0.8240 - val_loss: 0.5061 - val_acc: 0.7970\n",
      "Epoch 19/20\n",
      "19782/19782 [==============================] - 7s 376us/step - loss: 0.4224 - acc: 0.8316 - val_loss: 0.5111 - val_acc: 0.8003\n",
      "Epoch 20/20\n",
      "19782/19782 [==============================] - 7s 375us/step - loss: 0.4117 - acc: 0.8333 - val_loss: 0.4972 - val_acc: 0.8086\n",
      "Test loss: 0.4972079427465295\n",
      "Test accuracy: 0.8086407173911593\n"
     ]
    }
   ],
   "source": [
    "model = load_or_save_model(model, model_path+model_name3, load_model)"
   ]
  },
  {
   "cell_type": "code",
   "execution_count": 33,
   "metadata": {},
   "outputs": [
    {
     "name": "stdout",
     "output_type": "stream",
     "text": [
      "Actual      negative  positive  neutral\n",
      "Prediction                             \n",
      "negative         745        84      191\n",
      "positive          75      1501      151\n",
      "neutral          249       189     1722\n"
     ]
    }
   ],
   "source": [
    "# set up dictionary to generate crosstab\n",
    "dic = {key:value for key, value in zip(list(set(y_test.argmax(axis=-1))), emotion_values)}\n",
    "\n",
    "\n",
    "predictions = model.predict(x_test)\n",
    "\n",
    "show_confusion_matrix(predictions, emotion_values)"
   ]
  },
  {
   "cell_type": "markdown",
   "metadata": {},
   "source": [
    "## Identifying Issues with Emotions\n",
    "Now that the accuracy of the CNN model has been improved, let's observe which facial emotion the model has the most trouble identifying and see if it can be improved"
   ]
  },
  {
   "cell_type": "code",
   "execution_count": 34,
   "metadata": {},
   "outputs": [],
   "source": [
    "def emotion_breakdown(emotions):\n",
    "    emotion = ('negative', 'positive', 'neutral')\n",
    "    y_pos = np.arange(len(emotion))\n",
    "    \n",
    "    plt.bar(y_pos, emotions, align='center', alpha=0.5)\n",
    "    plt.xticks(y_pos, emotion)\n",
    "    plt.ylabel('percentage')\n",
    "    plt.title('emotion')\n",
    "    \n",
    "    plt.show()"
   ]
  },
  {
   "cell_type": "code",
   "execution_count": 35,
   "metadata": {},
   "outputs": [],
   "source": [
    "def return_confidence(values, diff=.25):\n",
    "    sorted_values = np.sort(values)\n",
    "\n",
    "    if sorted_values[-1] - diff > sorted_values[-2]:\n",
    "        return True\n",
    "    return False"
   ]
  },
  {
   "cell_type": "code",
   "execution_count": 36,
   "metadata": {},
   "outputs": [
    {
     "name": "stdout",
     "output_type": "stream",
     "text": [
      "Actual Emotion: negative\n"
     ]
    },
    {
     "data": {
      "image/png": "[encoded data removed]",
      "text/plain": [
       "<Figure size 432x288 with 1 Axes>"
      ]
     },
     "metadata": {},
     "output_type": "display_data"
    },
    {
     "data": {
      "image/png": "[encoded data removed]",
      "text/plain": [
       "<Figure size 432x288 with 1 Axes>"
      ]
     },
     "metadata": {},
     "output_type": "display_data"
    },
    {
     "name": "stdout",
     "output_type": "stream",
     "text": [
      "----------------------------------------\n",
      "Actual Emotion: negative\n"
     ]
    },
    {
     "data": {
      "image/png": "[encoded data removed]",
      "text/plain": [
       "<Figure size 432x288 with 1 Axes>"
      ]
     },
     "metadata": {},
     "output_type": "display_data"
    },
    {
     "data": {
      "image/png": "[encoded data removed]",
      "text/plain": [
       "<Figure size 432x288 with 1 Axes>"
      ]
     },
     "metadata": {},
     "output_type": "display_data"
    },
    {
     "name": "stdout",
     "output_type": "stream",
     "text": [
      "----------------------------------------\n",
      "Actual Emotion: neutral\n"
     ]
    },
    {
     "data": {
      "image/png": "[encoded data removed]",
      "text/plain": [
       "<Figure size 432x288 with 1 Axes>"
      ]
     },
     "metadata": {},
     "output_type": "display_data"
    },
    {
     "data": {
      "image/png": "[encoded data removed]",
      "text/plain": [
       "<Figure size 432x288 with 1 Axes>"
      ]
     },
     "metadata": {},
     "output_type": "display_data"
    },
    {
     "name": "stdout",
     "output_type": "stream",
     "text": [
      "----------------------------------------\n",
      "Actual Emotion: positive\n"
     ]
    },
    {
     "data": {
      "image/png": "[encoded data removed]",
      "text/plain": [
       "<Figure size 432x288 with 1 Axes>"
      ]
     },
     "metadata": {},
     "output_type": "display_data"
    },
    {
     "data": {
      "image/png": "[encoded data removed]",
      "text/plain": [
       "<Figure size 432x288 with 1 Axes>"
      ]
     },
     "metadata": {},
     "output_type": "display_data"
    },
    {
     "name": "stdout",
     "output_type": "stream",
     "text": [
      "----------------------------------------\n",
      "Actual Emotion: positive\n"
     ]
    },
    {
     "data": {
      "image/png": "[encoded data removed]",
      "text/plain": [
       "<Figure size 432x288 with 1 Axes>"
      ]
     },
     "metadata": {},
     "output_type": "display_data"
    },
    {
     "data": {
      "image/png": "[encoded data removed]",
      "text/plain": [
       "<Figure size 432x288 with 1 Axes>"
      ]
     },
     "metadata": {},
     "output_type": "display_data"
    },
    {
     "name": "stdout",
     "output_type": "stream",
     "text": [
      "----------------------------------------\n"
     ]
    }
   ],
   "source": [
    "def display_predictions(_predictions, x, y, confidence, max_prediction=3):\n",
    "    cur_prediction = 0\n",
    "    for i, prediction_image in enumerate(_predictions):\n",
    "\n",
    "        # only print out the first few items\n",
    "        if (cur_prediction == max_prediction):\n",
    "            break\n",
    "\n",
    "        val = return_confidence(prediction_image)\n",
    "\n",
    "        # returns results that model believes has a high probability of being correct\n",
    "        if (confidence == False):\n",
    "            val = not val\n",
    "        \n",
    "        if (val):\n",
    "            testing_img = np.array(x[i], 'float32')\n",
    "            testing_img = testing_img.reshape(width, height)\n",
    "\n",
    "            print('Actual Emotion: {}'.format(dic[y[i].argmax(axis=-1)]))\n",
    "            plt.imshow(testing_img)\n",
    "            plt.show()\n",
    "            emotion_breakdown(prediction_image)\n",
    "            print('-' * 40)\n",
    "            cur_prediction += 1\n",
    "\n",
    "display_predictions(predictions, x_test, y_test, True, 5)"
   ]
  },
  {
   "cell_type": "code",
   "execution_count": 37,
   "metadata": {},
   "outputs": [
    {
     "name": "stdout",
     "output_type": "stream",
     "text": [
      "Actual Emotion: negative\n"
     ]
    },
    {
     "data": {
      "image/png": "[encoded data removed]",
      "text/plain": [
       "<Figure size 432x288 with 1 Axes>"
      ]
     },
     "metadata": {},
     "output_type": "display_data"
    },
    {
     "data": {
      "image/png": "[encoded data removed]",
      "text/plain": [
       "<Figure size 432x288 with 1 Axes>"
      ]
     },
     "metadata": {},
     "output_type": "display_data"
    },
    {
     "name": "stdout",
     "output_type": "stream",
     "text": [
      "----------------------------------------\n",
      "Actual Emotion: negative\n"
     ]
    },
    {
     "data": {
      "image/png": "[encoded data removed]",
      "text/plain": [
       "<Figure size 432x288 with 1 Axes>"
      ]
     },
     "metadata": {},
     "output_type": "display_data"
    },
    {
     "data": {
      "image/png": "[encoded data removed]",
      "text/plain": [
       "<Figure size 432x288 with 1 Axes>"
      ]
     },
     "metadata": {},
     "output_type": "display_data"
    },
    {
     "name": "stdout",
     "output_type": "stream",
     "text": [
      "----------------------------------------\n",
      "Actual Emotion: neutral\n"
     ]
    },
    {
     "data": {
      "image/png": "[encoded data removed]",
      "text/plain": [
       "<Figure size 432x288 with 1 Axes>"
      ]
     },
     "metadata": {},
     "output_type": "display_data"
    },
    {
     "data": {
      "image/png": "[encoded data removed]",
      "text/plain": [
       "<Figure size 432x288 with 1 Axes>"
      ]
     },
     "metadata": {},
     "output_type": "display_data"
    },
    {
     "name": "stdout",
     "output_type": "stream",
     "text": [
      "----------------------------------------\n"
     ]
    }
   ],
   "source": [
    "display_predictions(predictions, x_test, y_test, False)"
   ]
  },
  {
   "cell_type": "markdown",
   "metadata": {},
   "source": [
    "One thing that seems prevalent is that the model seems to be having some difficulty at checking angry faces. It's possible that by grouping suprised and neutral emotions together caused some unwanted effects. The hypothesis is that by removing the suprised emotions from the neutral facial emotion, the model will be able to better identifying angry emotions."
   ]
  },
  {
   "cell_type": "code",
   "execution_count": 38,
   "metadata": {},
   "outputs": [
    {
     "name": "stdout",
     "output_type": "stream",
     "text": [
      "There are 16611 training data and 4076 test cases\n"
     ]
    }
   ],
   "source": [
    "# reinitialize training and test set\n",
    "x_train, y_train, x_test, y_test = [], [], [], []\n",
    "\n",
    "for i, instance in enumerate(faces):\n",
    "    \n",
    "    # skip first step; header\n",
    "    if i == 0:\n",
    "        continue\n",
    "    \n",
    "    emotion, pixel, usage = instance.split(',')\n",
    "    \n",
    "    img = np.array(pixel.split(\" \"))\n",
    "    \n",
    "    if emotion in ['0', '1', '3', '6']:\n",
    "        \n",
    "        # set 0 for negative emotion, 1 for positive, 2 for neutral\n",
    "        if emotion == '0' or emotion == '1':\n",
    "            emotion = '0'\n",
    "        elif emotion == '3':\n",
    "            emotion = '1'\n",
    "        elif emotion == '6':\n",
    "            emotion = '2'\n",
    "    \n",
    "        emotion = keras.utils.to_categorical(emotion, num_classes)\n",
    "        \n",
    "        if 'Training' in usage:\n",
    "            x_train.append(img)\n",
    "            y_train.append(emotion)\n",
    "        else:\n",
    "            x_test.append(img)\n",
    "            y_test.append(emotion)\n",
    "        \n",
    "print(\"There are {} training data and {} test cases\".format(len(y_train), len(y_test)))"
   ]
  },
  {
   "cell_type": "code",
   "execution_count": 39,
   "metadata": {},
   "outputs": [],
   "source": [
    "x_train, y_train, x_test, y_test, input_shape = convertListToArray(x_train, y_train, x_test, y_test, width, height)"
   ]
  },
  {
   "cell_type": "code",
   "execution_count": 40,
   "metadata": {},
   "outputs": [],
   "source": [
    "# create CNN model\n",
    "model = Sequential()\n",
    "\n",
    "# first CNN layer\n",
    "model.add(Conv2D(49, kernel_size=(3, 3),\n",
    "                 activation='relu',\n",
    "                 input_shape=input_shape))\n",
    "\n",
    "# second CNN layer\n",
    "model.add(Conv2D(49, (3, 3), activation='relu'))\n",
    "model.add(MaxPooling2D(pool_size=(3, 3)))\n",
    "model.add(Dropout(0.2))\n",
    "\n",
    "# third CNN layer\n",
    "model.add(Conv2D(98, (3,3), activation='relu'))\n",
    "model.add(AveragePooling2D(pool_size=(3,3)))\n",
    "model.add(Dropout(0.25))\n",
    "\n",
    "model.add(Flatten())\n",
    "model.add(Dense(784, activation='relu'))\n",
    "model.add(Dropout(0.5))\n",
    "\n",
    "model.add(BatchNormalization())\n",
    "model.add(Dense(num_classes, activation='softmax'))\n",
    "\n",
    "model.compile(loss=keras.losses.categorical_crossentropy,\n",
    "              optimizer=keras.optimizers.Adam(),\n",
    "              metrics=['accuracy'])"
   ]
  },
  {
   "cell_type": "code",
   "execution_count": 41,
   "metadata": {},
   "outputs": [
    {
     "name": "stdout",
     "output_type": "stream",
     "text": [
      "Train on 16611 samples, validate on 4076 samples\n",
      "Epoch 1/20\n",
      "16611/16611 [==============================] - 7s 447us/step - loss: 1.0273 - acc: 0.4805 - val_loss: 1.0655 - val_acc: 0.5218\n",
      "Epoch 2/20\n",
      "16611/16611 [==============================] - 6s 373us/step - loss: 0.8157 - acc: 0.6286 - val_loss: 0.7384 - val_acc: 0.6803\n",
      "Epoch 3/20\n",
      "16611/16611 [==============================] - 6s 373us/step - loss: 0.7297 - acc: 0.6767 - val_loss: 0.6706 - val_acc: 0.7017\n",
      "Epoch 4/20\n",
      "16611/16611 [==============================] - 6s 373us/step - loss: 0.6862 - acc: 0.6969 - val_loss: 0.6045 - val_acc: 0.7419\n",
      "Epoch 5/20\n",
      "16611/16611 [==============================] - 6s 374us/step - loss: 0.6538 - acc: 0.7163 - val_loss: 0.5855 - val_acc: 0.7522\n",
      "Epoch 6/20\n",
      "16611/16611 [==============================] - 6s 373us/step - loss: 0.6249 - acc: 0.7310 - val_loss: 0.5929 - val_acc: 0.7453\n",
      "Epoch 7/20\n",
      "16611/16611 [==============================] - 6s 373us/step - loss: 0.6075 - acc: 0.7404 - val_loss: 0.5646 - val_acc: 0.7569\n",
      "Epoch 8/20\n",
      "16611/16611 [==============================] - 6s 374us/step - loss: 0.5787 - acc: 0.7526 - val_loss: 0.5624 - val_acc: 0.7605\n",
      "Epoch 9/20\n",
      "16611/16611 [==============================] - 6s 374us/step - loss: 0.5629 - acc: 0.7637 - val_loss: 0.5534 - val_acc: 0.7816\n",
      "Epoch 10/20\n",
      "16611/16611 [==============================] - 6s 373us/step - loss: 0.5422 - acc: 0.7754 - val_loss: 0.5272 - val_acc: 0.7848\n",
      "Epoch 11/20\n",
      "16611/16611 [==============================] - 6s 373us/step - loss: 0.5291 - acc: 0.7806 - val_loss: 0.5446 - val_acc: 0.7713\n",
      "Epoch 12/20\n",
      "16611/16611 [==============================] - 6s 374us/step - loss: 0.5139 - acc: 0.7855 - val_loss: 0.5282 - val_acc: 0.7829\n",
      "Epoch 13/20\n",
      "16611/16611 [==============================] - 6s 373us/step - loss: 0.4966 - acc: 0.7983 - val_loss: 0.5371 - val_acc: 0.7799\n",
      "Epoch 14/20\n",
      "16611/16611 [==============================] - 6s 373us/step - loss: 0.4833 - acc: 0.8034 - val_loss: 0.5486 - val_acc: 0.7740\n",
      "Epoch 15/20\n",
      "16611/16611 [==============================] - 6s 376us/step - loss: 0.4663 - acc: 0.8113 - val_loss: 0.5196 - val_acc: 0.7897\n",
      "Epoch 16/20\n",
      "16611/16611 [==============================] - 6s 381us/step - loss: 0.4504 - acc: 0.8171 - val_loss: 0.5098 - val_acc: 0.7937\n",
      "Epoch 17/20\n",
      "16611/16611 [==============================] - 6s 380us/step - loss: 0.4375 - acc: 0.8228 - val_loss: 0.5219 - val_acc: 0.7875\n",
      "Epoch 18/20\n",
      "16611/16611 [==============================] - 6s 379us/step - loss: 0.4335 - acc: 0.8247 - val_loss: 0.5158 - val_acc: 0.7976\n",
      "Epoch 19/20\n",
      "16611/16611 [==============================] - 6s 378us/step - loss: 0.4200 - acc: 0.8299 - val_loss: 0.5362 - val_acc: 0.7910\n",
      "Epoch 20/20\n",
      "16611/16611 [==============================] - 6s 376us/step - loss: 0.4021 - acc: 0.8352 - val_loss: 0.5230 - val_acc: 0.7917\n",
      "Test loss: 0.5230223779238475\n",
      "Test accuracy: 0.7917075563693772\n"
     ]
    }
   ],
   "source": [
    "model = load_or_save_model(model, model_path+model_name4, load_model)"
   ]
  },
  {
   "cell_type": "code",
   "execution_count": 42,
   "metadata": {},
   "outputs": [
    {
     "name": "stdout",
     "output_type": "stream",
     "text": [
      "Actual      negative  positive  neutral\n",
      "Prediction                             \n",
      "negative         817       105      212\n",
      "positive          95      1560      171\n",
      "neutral          157       109      850\n"
     ]
    }
   ],
   "source": [
    "predictions = model.predict(x_test)\n",
    "\n",
    "show_confusion_matrix(predictions, emotion_values)"
   ]
  },
  {
   "cell_type": "markdown",
   "metadata": {},
   "source": [
    "While the accuracy for both positive and neutral classifications were more accurate, the accuracy of correctly classifying negative emotions went down. It appears that by removing the suprised emotions from neutral, it actually made it harder for the model to correctly identify negative emotions. "
   ]
  },
  {
   "cell_type": "markdown",
   "metadata": {},
   "source": [
    "To see how well the model works for real world situations, it is now time to apply this model to a different dataset! Unfortunately, datasets containing faces are far and few. Instead, using google search, one can compile images from angry faces and happy faces. To do this, I used an extension called Google Images Downloader for Firefox and cleaned the data to remove any incorrect labeling."
   ]
  },
  {
   "cell_type": "code",
   "execution_count": 43,
   "metadata": {},
   "outputs": [],
   "source": [
    "import os\n",
    "from PIL import Image\n",
    "import re\n",
    "from keras.preprocessing.image import img_to_array\n",
    "\n",
    "data_dir = 'data'\n",
    "resized_dir = '/resized'\n",
    "original_dir = '/og'"
   ]
  },
  {
   "cell_type": "code",
   "execution_count": 44,
   "metadata": {},
   "outputs": [],
   "source": [
    "# resizes images from directory into new subdirectory\n",
    "def resize(folder, og_dir, new_dir, fileName, width, height):\n",
    "    filePath = os.path.join(folder, fileName)\n",
    "    im = Image.open(filePath)\n",
    "    newIm = im.resize((int(width), int(height)))\n",
    "    directory = re.sub(og_dir, new_dir, folder, count=1) \n",
    "    \n",
    "    # create directory if it doesn't exist\n",
    "    if not os.path.exists(directory):\n",
    "        os.makedirs(directory)\n",
    "    \n",
    "    # create new file only if it doesn't exist\n",
    "    if not os.path.exists(directory + '/' + fileName):\n",
    "        try:\n",
    "            newIm.save(directory + '/' + fileName)\n",
    "        except:\n",
    "            newIm.close()\n",
    "\n",
    "# finds images in directory\n",
    "def bulkResize(imageFolder, original_dir, new_dir, width, height):\n",
    "    imgExts = [\"png\", \"bmp\", \"jpg\"]\n",
    "    \n",
    "    for path, dirs, files in os.walk(imageFolder + original_dir):\n",
    "        for fileName in files:\n",
    "            ext = fileName[-3:].lower()\n",
    "            if ext not in imgExts:\n",
    "                continue\n",
    "\n",
    "            resize(path, original_dir, new_dir, fileName, width, height)\n",
    "\n",
    "bulkResize(data_dir, original_dir, resized_dir, width, height)"
   ]
  },
  {
   "cell_type": "code",
   "execution_count": 45,
   "metadata": {},
   "outputs": [
    {
     "name": "stderr",
     "output_type": "stream",
     "text": [
      "c:\\users\\brian\\appdata\\local\\programs\\python\\python36\\lib\\site-packages\\PIL\\Image.py:931: UserWarning: Palette images with Transparency   expressed in bytes should be converted to RGBA images\n",
      "  'to RGBA images')\n"
     ]
    }
   ],
   "source": [
    "# convert image to array and add to df\n",
    "def loadImgToArray(path, fileName):\n",
    "    \n",
    "    # don't count files if file is corrupt\n",
    "    try:\n",
    "        im = Image.open(path+'/'+fileName)\n",
    "        im = im.convert('L') # convert RGB to 8bit black and white\n",
    "\n",
    "        ar = img_to_array(im)\n",
    "\n",
    "        # normalize values\n",
    "        ar = ar/255.0\n",
    "\n",
    "        reshape = ar.reshape(width*height*1)\n",
    "        batch_array.append(reshape)\n",
    "        remove = re.sub(data_dir+resized_dir, '', path)\n",
    "        remove = re.sub(r'\\\\', '', remove)\n",
    "        batch_label.append(remove)\n",
    "    except:\n",
    "        im.close()\n",
    "\n",
    "\n",
    "# convert to arrays\n",
    "def bulkConvert(imageFolder):\n",
    "    imgExts = [\"png\", \"bmp\", \"jpg\"]\n",
    "    for path, dirs, files in os.walk(imageFolder):\n",
    "        for i,  fileName in enumerate(files):\n",
    "            ext = fileName[-3:].lower()\n",
    "            if ext not in imgExts:\n",
    "                continue\n",
    "            loadImgToArray(path, fileName)\n",
    "    \n",
    "    \n",
    "batch_array = []\n",
    "batch_label = []\n",
    "bulkConvert(data_dir + resized_dir)"
   ]
  },
  {
   "cell_type": "code",
   "execution_count": 46,
   "metadata": {},
   "outputs": [],
   "source": [
    "# # Convert to float32\n",
    "batch_array = np.asarray(batch_array, dtype=np.float32)\n",
    "batch_label = np.asarray(batch_label, dtype=np.uint8)\n",
    "batch_label = keras.utils.to_categorical(batch_label, num_classes)\n",
    "\n",
    "# reshape values into image format\n",
    "if K.image_data_format() == 'channels_first':\n",
    "    batch_array = batch_array.reshape(batch_array.shape[0], 1, width, height)\n",
    "    input_shape = (1, width, height)\n",
    "else:\n",
    "    batch_array = batch_array.reshape(batch_array.shape[0], width, height, 1)\n",
    "    input_shape = (width, height, 1)"
   ]
  },
  {
   "cell_type": "code",
   "execution_count": 47,
   "metadata": {},
   "outputs": [],
   "source": [
    "predictions = model.predict(batch_array)"
   ]
  },
  {
   "cell_type": "code",
   "execution_count": 48,
   "metadata": {},
   "outputs": [
    {
     "data": {
      "text/html": [
       "<div>\n",
       "<style scoped>\n",
       "    .dataframe tbody tr th:only-of-type {\n",
       "        vertical-align: middle;\n",
       "    }\n",
       "\n",
       "    .dataframe tbody tr th {\n",
       "        vertical-align: top;\n",
       "    }\n",
       "\n",
       "    .dataframe thead th {\n",
       "        text-align: right;\n",
       "    }\n",
       "</style>\n",
       "<table border=\"1\" class=\"dataframe\">\n",
       "  <thead>\n",
       "    <tr style=\"text-align: right;\">\n",
       "      <th>Actual</th>\n",
       "      <th>negative</th>\n",
       "      <th>positive</th>\n",
       "      <th>neutral</th>\n",
       "    </tr>\n",
       "    <tr>\n",
       "      <th>Prediction</th>\n",
       "      <th></th>\n",
       "      <th></th>\n",
       "      <th></th>\n",
       "    </tr>\n",
       "  </thead>\n",
       "  <tbody>\n",
       "    <tr>\n",
       "      <th>negative</th>\n",
       "      <td>17</td>\n",
       "      <td>59</td>\n",
       "      <td>67</td>\n",
       "    </tr>\n",
       "    <tr>\n",
       "      <th>positive</th>\n",
       "      <td>6</td>\n",
       "      <td>130</td>\n",
       "      <td>79</td>\n",
       "    </tr>\n",
       "    <tr>\n",
       "      <th>neutral</th>\n",
       "      <td>6</td>\n",
       "      <td>51</td>\n",
       "      <td>87</td>\n",
       "    </tr>\n",
       "  </tbody>\n",
       "</table>\n",
       "</div>"
      ],
      "text/plain": [
       "Actual      negative  positive  neutral\n",
       "Prediction                             \n",
       "negative          17        59       67\n",
       "positive           6       130       79\n",
       "neutral            6        51       87"
      ]
     },
     "execution_count": 48,
     "metadata": {},
     "output_type": "execute_result"
    }
   ],
   "source": [
    "# convert id values into string values\n",
    "prediction_string = []\n",
    "actual_string = []\n",
    "\n",
    "for value in predictions.argmax(axis=-1):\n",
    "    prediction_string.append(dic[value])\n",
    "\n",
    "for value in batch_label.argmax(axis=-1):\n",
    "    actual_string.append(dic[value])\n",
    "    \n",
    "    \n",
    "# create categorical variables to input into crosstab\n",
    "prediction = pd.Categorical(prediction_string, categories=emotion_values)\n",
    "actual = pd.Categorical(actual_string, categories=emotion_values)\n",
    "\n",
    "num_cross = pd.crosstab(prediction, actual, rownames=['Prediction'], colnames=['Actual'])\n",
    "num_cross"
   ]
  },
  {
   "cell_type": "code",
   "execution_count": 49,
   "metadata": {},
   "outputs": [
    {
     "name": "stdout",
     "output_type": "stream",
     "text": [
      "Accuracy: 0.46613545876100243\n"
     ]
    }
   ],
   "source": [
    "print('Accuracy:',model.evaluate(batch_array, batch_label, verbose=0)[1])"
   ]
  },
  {
   "cell_type": "code",
   "execution_count": 50,
   "metadata": {},
   "outputs": [
    {
     "name": "stdout",
     "output_type": "stream",
     "text": [
      "Actual Emotion: negative\n"
     ]
    },
    {
     "data": {
      "image/png": "[encoded data removed]",
      "text/plain": [
       "<Figure size 432x288 with 1 Axes>"
      ]
     },
     "metadata": {},
     "output_type": "display_data"
    },
    {
     "data": {
      "image/png": "[encoded data removed]",
      "text/plain": [
       "<Figure size 432x288 with 1 Axes>"
      ]
     },
     "metadata": {},
     "output_type": "display_data"
    },
    {
     "name": "stdout",
     "output_type": "stream",
     "text": [
      "----------------------------------------\n",
      "Actual Emotion: negative\n"
     ]
    },
    {
     "data": {
      "image/png": "[encoded data removed]",
      "text/plain": [
       "<Figure size 432x288 with 1 Axes>"
      ]
     },
     "metadata": {},
     "output_type": "display_data"
    },
    {
     "data": {
      "image/png": "[encoded data removed]",
      "text/plain": [
       "<Figure size 432x288 with 1 Axes>"
      ]
     },
     "metadata": {},
     "output_type": "display_data"
    },
    {
     "name": "stdout",
     "output_type": "stream",
     "text": [
      "----------------------------------------\n",
      "Actual Emotion: negative\n"
     ]
    },
    {
     "data": {
      "image/png": "[encoded data removed]",
      "text/plain": [
       "<Figure size 432x288 with 1 Axes>"
      ]
     },
     "metadata": {},
     "output_type": "display_data"
    },
    {
     "data": {
      "image/png": "[encoded data removed]",
      "text/plain": [
       "<Figure size 432x288 with 1 Axes>"
      ]
     },
     "metadata": {},
     "output_type": "display_data"
    },
    {
     "name": "stdout",
     "output_type": "stream",
     "text": [
      "----------------------------------------\n"
     ]
    }
   ],
   "source": [
    "display_predictions(predictions, batch_array, batch_label, True)"
   ]
  },
  {
   "cell_type": "code",
   "execution_count": 51,
   "metadata": {},
   "outputs": [
    {
     "name": "stdout",
     "output_type": "stream",
     "text": [
      "Actual Emotion: negative\n"
     ]
    },
    {
     "data": {
      "image/png": "[encoded data removed]",
      "text/plain": [
       "<Figure size 432x288 with 1 Axes>"
      ]
     },
     "metadata": {},
     "output_type": "display_data"
    },
    {
     "data": {
      "image/png": "[encoded data removed]",
      "text/plain": [
       "<Figure size 432x288 with 1 Axes>"
      ]
     },
     "metadata": {},
     "output_type": "display_data"
    },
    {
     "name": "stdout",
     "output_type": "stream",
     "text": [
      "----------------------------------------\n",
      "Actual Emotion: neutral\n"
     ]
    },
    {
     "data": {
      "image/png": "[encoded data removed]",
      "text/plain": [
       "<Figure size 432x288 with 1 Axes>"
      ]
     },
     "metadata": {},
     "output_type": "display_data"
    },
    {
     "data": {
      "image/png": "[encoded data removed]",
      "text/plain": [
       "<Figure size 432x288 with 1 Axes>"
      ]
     },
     "metadata": {},
     "output_type": "display_data"
    },
    {
     "name": "stdout",
     "output_type": "stream",
     "text": [
      "----------------------------------------\n",
      "Actual Emotion: negative\n"
     ]
    },
    {
     "data": {
      "image/png": "[encoded data removed]",
      "text/plain": [
       "<Figure size 432x288 with 1 Axes>"
      ]
     },
     "metadata": {},
     "output_type": "display_data"
    },
    {
     "data": {
      "image/png": "[encoded data removed]",
      "text/plain": [
       "<Figure size 432x288 with 1 Axes>"
      ]
     },
     "metadata": {},
     "output_type": "display_data"
    },
    {
     "name": "stdout",
     "output_type": "stream",
     "text": [
      "----------------------------------------\n"
     ]
    }
   ],
   "source": [
    "display_predictions(predictions, x_test, y_test, False)"
   ]
  }
 ],
 "metadata": {
  "kernelspec": {
   "display_name": "Python 3",
   "language": "python",
   "name": "python3"
  },
  "language_info": {
   "codemirror_mode": {
    "name": "ipython",
    "version": 3
   },
   "file_extension": ".py",
   "mimetype": "text/x-python",
   "name": "python",
   "nbconvert_exporter": "python",
   "pygments_lexer": "ipython3",
   "version": "3.6.5"
  }
 },
 "nbformat": 4,
 "nbformat_minor": 2
}
